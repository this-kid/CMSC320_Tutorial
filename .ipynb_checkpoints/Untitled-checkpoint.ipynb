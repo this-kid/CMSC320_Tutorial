{
 "cells": [
  {
   "cell_type": "code",
   "execution_count": 1,
   "id": "c8392443",
   "metadata": {},
   "outputs": [],
   "source": [
    "import pandas as pd\n",
    "import matplotlib.pyplot as plt\n",
    "\n",
    "import sklearn.metrics"
   ]
  },
  {
   "cell_type": "markdown",
   "id": "a8a63c7a",
   "metadata": {},
   "source": [
    "## 1.  Introduction:\n",
    "\n",
    "Cardiovascular Diseases (diseases involving the heart and pumping blood throughout the body)\n",
    "are currently the most common cause of death around the world, accounting for almost 18 million \n",
    "deaths every year.  Additionally, there are several factors that could affect a person's chances \n",
    "to get cardiovascular diseases (abbreviated CVD).  This dataset taken from the UCI Machine \n",
    "Learning Repository contains several factors that could be related to CVD and whether the \n",
    "participants contracted the disease.  Today, we will be identifying which of these factors is\n",
    "the best indicator of heart disease.  "
   ]
  },
  {
   "cell_type": "markdown",
   "id": "86a94b17",
   "metadata": {},
   "source": [
    "## 2. Data Collection:\n",
    "\n",
    "The dataset was compiled from 5 smaller datasets which originated from \n",
    "- Cleveland OH: 303 observations, \n",
    "- Hungary: 294 observations, \n",
    "- Switzerland: 123 observations, \n",
    "- Long Beach VA: 200 observations, \n",
    "- Stalog (Heart) Data Set: 270 observations\n",
    "\n",
    "  \n",
    "This dataset identified 11 factors for CVD:\n",
    "1. Age (in years)\n",
    "2. Sex ([M: Male, F: Female])\n",
    "3. ChestPainType (type of chest pain -> [TA: Typical Angina \\*1*, ATA: Atypical Angina, NAP: Non-Anginal Pain, ASY: Asymptomatic])\n",
    "4. RestingBP (resting blood pressure in mmHg)\n",
    "5. Cholesterol (in mg/dl)\n",
    "6. FastingBS (fasting blood sugar -> [1: if fasting blood sugar > 120 mg/dl, 0: otherwise])\n",
    "7. RestingECG (resting electrocardiogram results -> [Normal: Normal, ST: having ST-T wave abnomality \\*2*, LVH: showing left ventricular hypertrophy \\*3*])\n",
    "8. MaxHR (Maximum heart rate in beats/min)\n",
    "9. ExerciseAngina (did exercise induce an angina -> [Y: yes, N: no])\n",
    "10. Oldpeak (ST depression \\*4* in ecg results)\n",
    "11. ST_Slope (slope of ST segment \\*5* -> [Up: upsloping, Flat: flat, Down: downsloping])\n",
    "\n",
    "\n",
    "As well as:\n",
    "12. Heart Disease (1: has heart disease, 0: does not have heart disease)\n"
   ]
  },
  {
   "cell_type": "code",
   "execution_count": 2,
   "id": "43c31c02",
   "metadata": {},
   "outputs": [
    {
     "name": "stdout",
     "output_type": "stream",
     "text": [
      "   Age Sex ChestPainType  RestingBP  Cholesterol  FastingBS RestingECG  MaxHR  \\\n",
      "0   40   M           ATA        140          289          0     Normal    172   \n",
      "1   49   F           NAP        160          180          0     Normal    156   \n",
      "2   37   M           ATA        130          283          0         ST     98   \n",
      "3   48   F           ASY        138          214          0     Normal    108   \n",
      "4   54   M           NAP        150          195          0     Normal    122   \n",
      "\n",
      "  ExerciseAngina  Oldpeak ST_Slope  HeartDisease  \n",
      "0              N      0.0       Up             0  \n",
      "1              N      1.0     Flat             1  \n",
      "2              N      0.0       Up             0  \n",
      "3              Y      1.5     Flat             1  \n",
      "4              N      0.0       Up             0  \n"
     ]
    }
   ],
   "source": [
    "# creating the dataframe\n",
    "dataframe = pd.read_csv('heart_disease.csv')\n",
    "print(dataframe.head())"
   ]
  },
  {
   "cell_type": "markdown",
   "id": "e35562c6",
   "metadata": {},
   "source": [
    "## 3. Cleaning the Data"
   ]
  },
  {
   "cell_type": "code",
   "execution_count": 3,
   "id": "0678a2c7",
   "metadata": {},
   "outputs": [
    {
     "name": "stdout",
     "output_type": "stream",
     "text": [
      "0\n"
     ]
    }
   ],
   "source": [
    "# check that there are no NaN in the dataset\n",
    "print(dataframe.isnull().sum().sum())\n",
    "\n",
    "# removing rows with missing data (in the form of 0)\n",
    "dataframe = dataframe.loc[dataframe.RestingBP> 60, :]\n",
    "dataframe = dataframe.loc[dataframe.Cholesterol> 60, :]"
   ]
  },
  {
   "cell_type": "markdown",
   "id": "d518f3fe",
   "metadata": {},
   "source": [
    "Due to the definitely non-linear nature of the ChestPainType category, I have decided to remove it;\n",
    "\n",
    "- Typical Angina: pain in the chest due to physical activity, \n",
    "- Atypical Angina: pain in the chest both during physical stress and rest, \n",
    "- Non-Anginal Pain: any other type of pain, \n",
    "- Asymptomatic: no pain at all\n",
    "\n",
    "These have no clear progression or linearity, and thus I have removed this factor for the dataset.\n",
    "\n",
    "For other information on chest pains, please refer to https://www.ncbi.nlm.nih.gov/pmc/articles/PMC5680106/.\n"
   ]
  },
  {
   "cell_type": "code",
   "execution_count": 4,
   "id": "bf50408f",
   "metadata": {},
   "outputs": [],
   "source": [
    "# removing columns that don't have clear metrics\n",
    "dataframe = dataframe.drop(['ChestPainType'], axis=1)"
   ]
  },
  {
   "cell_type": "markdown",
   "id": "e49756ce",
   "metadata": {},
   "source": [
    "Unlike the ChestPainType category, RestingECG has a potential linearity and thus will\n",
    "be considered for potential linear relationships.\n",
    "\n",
    "For the RestingECG category:\n",
    "\n",
    "- Normal: having a normal ECG test\n",
    "- ST: having a slight abnomality, but no physical deformation\n",
    "- LVH: having a physical deformation of the heart, causing great abnomalities in a ECG test\n",
    "For an image, please refer to https://www.vascularhealthclinics.org/wp-content/uploads/2019/12/Left-Ventricular-Hypertrophy.webp."
   ]
  },
  {
   "cell_type": "code",
   "execution_count": 5,
   "id": "251eadc0",
   "metadata": {},
   "outputs": [],
   "source": [
    "# replacing the RestingECG category with numerical values\n",
    "dataframe[\"RestingECG\"].replace({\"Normal\": 0, \"ST\": 1, \"LVH\": 2}, inplace=True)"
   ]
  },
  {
   "cell_type": "markdown",
   "id": "1ec6eb7b",
   "metadata": {},
   "source": [
    "For the ST_slope, while the slope of the ST segment (as seen here \\*5*) does not have clear linearity, since both positive and negative slopes can cause cardiovascular diseases (as seen here \\*6*), the relationship of ST segment / heart rate as a slope has been seen to yield better predictors of CVDs, and thus we will be replacing ST_slope with this new ratio.  For more information, please look here \\*7*.\n"
   ]
  },
  {
   "cell_type": "code",
   "execution_count": 6,
   "id": "c758767d",
   "metadata": {},
   "outputs": [],
   "source": [
    "# removing columns that don't have clear metrics\n",
    "dataframe[\"ST_Slope\"] = dataframe[\"Oldpeak\"] / dataframe[\"MaxHR\"]"
   ]
  },
  {
   "cell_type": "markdown",
   "id": "dcb053be",
   "metadata": {},
   "source": [
    "For the Sex and ExerciseAngina catergories, they only have 2 possible values, thus they must have a possible linear relationship, so we will be keeping them."
   ]
  },
  {
   "cell_type": "code",
   "execution_count": 7,
   "id": "fde3e87b",
   "metadata": {},
   "outputs": [],
   "source": [
    "# replacing the Sex, ExerciseAngina categories with numerical values\n",
    "dataframe[\"Sex\"].replace({\"M\": 0, \"F\": 1}, inplace=True)\n",
    "\n",
    "dataframe[\"ExerciseAngina\"].replace({\"Y\": 0, \"N\": 1}, inplace=True)"
   ]
  },
  {
   "cell_type": "markdown",
   "id": "783f9d22",
   "metadata": {},
   "source": [
    "## 4. Creating our Models\n",
    "\n",
    "Now that we have a clean dataset, it is time to create linear regression models in hopes of finding a factor that accurately predicts cardiovascular diseases."
   ]
  },
  {
   "cell_type": "code",
   "execution_count": null,
   "id": "0965a179",
   "metadata": {},
   "outputs": [
    {
     "name": "stdout",
     "output_type": "stream",
     "text": [
      "Slope = 0.009269961264932697\n",
      "Intercept = -0.0020319348407037913\n"
     ]
    },
    {
     "data": {
      "image/png": "[encoded data removed]",
      "text/plain": [
       "<Figure size 432x288 with 1 Axes>"
      ]
     },
     "metadata": {
      "needs_background": "light"
     },
     "output_type": "display_data"
    },
    {
     "name": "stdout",
     "output_type": "stream",
     "text": [
      "Accuracy = 0.47319\n",
      "Slope = 0.008325072100236705\n",
      "Intercept = 0.08629742913815051\n"
     ]
    },
    {
     "data": {
      "image/png": "[encoded data removed]",
      "text/plain": [
       "<Figure size 432x288 with 1 Axes>"
      ]
     },
     "metadata": {
      "needs_background": "light"
     },
     "output_type": "display_data"
    },
    {
     "name": "stdout",
     "output_type": "stream",
     "text": [
      "Accuracy = 0.48228\n",
      "Slope = 0.0036154621170370895\n",
      "Intercept = -0.0005997955257618828\n"
     ]
    },
    {
     "data": {
      "image/png": "[encoded data removed]",
      "text/plain": [
       "<Figure size 432x288 with 1 Axes>"
      ]
     },
     "metadata": {
      "needs_background": "light"
     },
     "output_type": "display_data"
    },
    {
     "name": "stdout",
     "output_type": "stream",
     "text": [
      "Accuracy = 0.4883\n",
      "Slope = 0.001880352202268101\n",
      "Intercept = 0.002887824804680534\n"
     ]
    },
    {
     "data": {
      "image/png": "[encoded data removed]",
      "text/plain": [
       "<Figure size 432x288 with 1 Axes>"
      ]
     },
     "metadata": {
      "needs_background": "light"
     },
     "output_type": "display_data"
    },
    {
     "name": "stdout",
     "output_type": "stream",
     "text": [
      "Accuracy = 0.48714\n",
      "Slope = 0.020142626681863885\n",
      "Intercept = 0.0861795401383347\n"
     ]
    },
    {
     "data": {
      "image/png": "[encoded data removed]",
      "text/plain": [
       "<Figure size 432x288 with 1 Axes>"
      ]
     },
     "metadata": {
      "needs_background": "light"
     },
     "output_type": "display_data"
    },
    {
     "name": "stdout",
     "output_type": "stream",
     "text": [
      "Accuracy = 0.48009\n"
     ]
    }
   ],
   "source": [
    "# creating linear regressions\n",
    "slope_intercept_pairs = []\n",
    "accuracy_scores = []\n",
    "\n",
    "for factor_pos in range(len(dataframe.columns)-1):\n",
    "\n",
    "    x_data = dataframe.iloc[:, factor_pos]\n",
    "    y_data = dataframe.iloc[:, len(dataframe.columns)-1]\n",
    "    plt.scatter(x_data, y_data)\n",
    "\n",
    "    test_slope = 0\n",
    "    test_intercept = 0\n",
    "\n",
    "    learning_rate = 0.00001\n",
    "    iterations = 10000\n",
    "\n",
    "    num_of_data_points = float(len(x_data))\n",
    "\n",
    "    # Linear Gradient Descent \n",
    "    for i in range(iterations): \n",
    "        y_pred = test_slope * x_data + test_intercept\n",
    "        derivative_of_slope = (-2 / num_of_data_points) * sum(x_data * (y_data - y_pred))  \n",
    "        derivative_of_intercept = (-2 / num_of_data_points) * sum(y_data - y_pred)\n",
    "        test_slope = test_slope - learning_rate * derivative_of_slope\n",
    "        test_intercept = test_intercept - learning_rate * derivative_of_intercept\n",
    "\n",
    "    slope_intercept_pair = (test_slope, test_intercept)\n",
    "    slope_intercept_pairs.append(slope_intercept_pair)\n",
    "\n",
    "    \n",
    "\n",
    "\n",
    "    plt.title(dataframe.columns[-1] + \" in relation to \" + dataframe.columns[factor_pos])\n",
    "\n",
    "    plt.xlabel(dataframe.columns[factor_pos])\n",
    "    \n",
    "    if dataframe.columns[factor_pos] == \"Sex\" :\n",
    "        plt.xticks([0, 1], [\"Male\", \"Female\"])\n",
    "    elif dataframe.columns[factor_pos] == \"ExerciseAngina\" :\n",
    "        plt.xticks([0, 1], [\"No\", \"Yes\"])\n",
    "    elif dataframe.columns[factor_pos] == \"RestingECG\" :\n",
    "        plt.xticks([0, 1, 2], [\"Normal\", \"ST\", \"LVH\"])\n",
    "\n",
    "    plt.ylabel(dataframe.columns[-1])\n",
    "    plt.yticks([0, 1], [\"No\", \"Yes\"])\n",
    "\n",
    "    plt.plot(x_data, test_slope * x_data + test_intercept)\n",
    "    plt.show()\n",
    "    plt.close()\n",
    "\n",
    "    print(\"Slope = \" + str(test_slope))\n",
    "    print(\"Intercept = \" + str(test_intercept))\n",
    "    \n",
    "    score = round(sklearn.metrics.mean_absolute_error(y_data, test_slope * x_data + test_intercept), 5)\n",
    "    print(\"Accuracy = \" + str(score))\n",
    "    accuracy_scores.append(score)\n",
    "    \n",
    "\n",
    "print(accuracy_scores)"
   ]
  },
  {
   "cell_type": "markdown",
   "id": "e8ae4f90",
   "metadata": {},
   "source": [
    "## 5. Conclusion\n",
    "\n",
    "As we can see from the accuracy scores above, ExerciseAngina is the best single predictor \n",
    "of heart disease, closely followed by Oldpeak and RestingBP.  Unfortunately, none of the \n",
    "individual factors were particularly good predictors, which makes sense since the human body is a complicated mechanism with a large room for variance.  Additionally, the sample size of the data set probably isn't large enough to make definitive statements.\n",
    "\n",
    "Additionally, the new ST_Slope ratio that we calculated (ST segment / heart rate as a slope),\n",
    "performed worse than expected which possibly due to, while there is a relation (see here \\*7*), \n",
    "it may not be a linear one, and thus is not displayed well in this project.\n",
    "\n",
    "However, from the graphs, we can easily see that factors like cholesterol levels, resting\n",
    "blood pressure, and blood sugar levels are clear indicators of heart disease, yet another\n",
    "reminder to everyone to eat your fruits and vegetables and to exercise as regularly as you\n",
    "can.\n",
    "\n",
    "For additional information on ways to prevent cardiovascular diseases as well as helpful \n",
    "information/graphs explaining the factors used in this dataset, please use the links below!"
   ]
  },
  {
   "cell_type": "markdown",
   "id": "7a96398c",
   "metadata": {},
   "source": [
    "## 6. Other Resources/Links\n",
    "\n",
    "Eating and Health: https://www.betterhealth.vic.gov.au/health/conditionsandtreatments/heart-disease-and-food#heart-disease\n",
    "Exercise and Health: https://medlineplus.gov/ency/patientinstructions/000094.htm\n",
    "\n",
    "\\*1* Angina is a chest pain caused by reduced blood flow to the heart (Oxford Dict.)\n",
    "\\*2* ST-T wave abnormality is being defined as T wave inversions and/or ST elevation or depression of > 0.05 mV\n",
    "\\*3* Left Ventricular Hypertrophy is the thickening of the heart wall which tightens the muscle and\n",
    "    may lead to the heart not being able to pump sufficient blood.  \n",
    "    For more information, refer to https://www.mayoclinic.org/diseases-conditions/left-ventricular-hypertrophy/symptoms-causes/syc-20374314\n",
    "\\*4*\n",
    "* Refer to: https://www.cvphysiology.com/uploads/images/CAD012%20ST%20elevation.png\n",
    "\\*5* Refer to: https://litfl.com/wp-content/uploads/2018/10/ST-segment-depression-upsloping-downsloping-horizontal.png\n",
    "\\*6* For more information, please see https://www.ncbi.nlm.nih.gov/pmc/articles/PMC4958709/\n",
    "\\*7* For more information, please see https://pubmed.ncbi.nlm.nih.gov/3739881/\n",
    "\n",
    "Data Taken from https://www.kaggle.com/fedesoriano/heart-failure-prediction/version/1?select=heart.csv\n",
    "\n"
   ]
  },
  {
   "cell_type": "code",
   "execution_count": null,
   "id": "ceab75be",
   "metadata": {},
   "outputs": [],
   "source": []
  }
 ],
 "metadata": {
  "kernelspec": {
   "display_name": "Python 3 (ipykernel)",
   "language": "python",
   "name": "python3"
  },
  "language_info": {
   "codemirror_mode": {
    "name": "ipython",
    "version": 3
   },
   "file_extension": ".py",
   "mimetype": "text/x-python",
   "name": "python",
   "nbconvert_exporter": "python",
   "pygments_lexer": "ipython3",
   "version": "3.9.7"
  }
 },
 "nbformat": 4,
 "nbformat_minor": 5
}
